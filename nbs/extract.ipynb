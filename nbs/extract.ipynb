{
 "cells": [
  {
   "cell_type": "code",
   "execution_count": null,
   "id": "rotary-southeast",
   "metadata": {},
   "outputs": [],
   "source": [
    "# default_exp loader\n",
    "_FNAME='loader'\n",
    "import os\n",
    "import unittest\n",
    "from unittest import mock\n",
    "from nbdev.export import notebook2script\n",
    "TESTCASE=unittest.TestCase()\n",
    "HERE = os.path.abspath('')"
   ]
  },
  {
   "cell_type": "code",
   "execution_count": null,
   "id": "tested-maintenance",
   "metadata": {},
   "outputs": [],
   "source": [
    "#export\n",
    "import os\n",
    "kcred = {\"username\":\"williamgathright\",\"key\":\"1d72fbd5e033043ace0a49d825f9f838\"}\n",
    "os.environ[\"KAGGLE_USERNAME\"] = kcred['username']\n",
    "os.environ[\"KAGGLE_KEY\"]  = kcred['key']\n",
    "from kaggle import api"
   ]
  },
  {
   "cell_type": "code",
   "execution_count": null,
   "id": "ongoing-heather",
   "metadata": {},
   "outputs": [],
   "source": [
    "#export\n",
    "import zipfile\n",
    "def unzip(zipped, targetdir=HERE):\n",
    "    with zipfile.ZipFile(zipped,\"r\") as zip_ref:\n",
    "        zip_ref.extractall(targetdir)\n",
    "\n",
    "def download_kaggle_dataset(ds_name):\n",
    "    '''\n",
    "    ds_name: str\n",
    "        Name of the kaggle dataset\n",
    "    '''\n",
    "    api.competition_download_cli(ds_name)\n",
    "    unzip(ds_name+'.zip', targetdir=ds_name)"
   ]
  },
  {
   "cell_type": "code",
   "execution_count": null,
   "id": "muslim-soccer",
   "metadata": {},
   "outputs": [
    {
     "name": "stdout",
     "output_type": "stream",
     "text": [
      "home-credit-default-risk.zip: Skipping, found more recently modified local copy (use --force to force download)\n"
     ]
    }
   ],
   "source": [
    "download_kaggle_dataset('home-credit-default-risk')"
   ]
  },
  {
   "cell_type": "code",
   "execution_count": null,
   "id": "single-personal",
   "metadata": {},
   "outputs": [],
   "source": []
  }
 ],
 "metadata": {
  "kernelspec": {
   "display_name": "Python 3",
   "language": "python",
   "name": "python3"
  }
 },
 "nbformat": 4,
 "nbformat_minor": 5
}
